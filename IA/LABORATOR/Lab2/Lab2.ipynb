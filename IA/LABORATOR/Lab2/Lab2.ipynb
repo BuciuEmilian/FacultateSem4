{
 "cells": [
  {
   "cell_type": "code",
   "execution_count": 119,
   "metadata": {},
   "outputs": [],
   "source": [
    "# prerequisites\n",
    "import os \n",
    "import numpy as np \n",
    "import networkx as nx\n",
    "import matplotlib.pyplot as plt \n",
    "import warnings \n",
    "\n",
    "from networkx.algorithms import community\n",
    "\n",
    "warnings.simplefilter('ignore')"
   ]
  },
  {
   "cell_type": "code",
   "execution_count": 118,
   "metadata": {},
   "outputs": [],
   "source": [
    "def readGraph(path):\n",
    "    crtDir =  os.getcwd()\n",
    "    filePath = os.path.join(crtDir, path, path.split('\\\\')[-1] + '.gml')\n",
    "    G = nx.read_gml(filePath, label='id')\n",
    "    return G"
   ]
  },
  {
   "cell_type": "code",
   "execution_count": 132,
   "metadata": {},
   "outputs": [],
   "source": [
    "def writeCommunities(path, communities):\n",
    "    crtDir = os.getcwd()\n",
    "    filePath = os.path.join(crtDir, path, 'my_res.txt')\n",
    "    f = open(filePath, 'w')\n",
    "    index = max(communities)\n",
    "    for i in range(1, index + 1):   \n",
    "        for node, community in enumerate(communities):\n",
    "            if community == i:\n",
    "                f.write(str(node + 1))\n",
    "                f.write(' ')\n",
    "        f.write('\\n')\n",
    "    f.close()"
   ]
  },
  {
   "cell_type": "code",
   "execution_count": 171,
   "metadata": {},
   "outputs": [],
   "source": [
    "def greedyCommunitiesDetection(G, method='girvan_newman', iterations = 1):\n",
    "    # Input: a graph\n",
    "    # Output: list of comunity index (for every node)\n",
    "\n",
    "    lblDict = {}\n",
    "    for idx, node in enumerate(G.nodes):\n",
    "        lblDict[node] = idx\n",
    "\n",
    "    from networkx.algorithms import community\n",
    "\n",
    "    top_level_communities = 0\n",
    "    if method == 'girvan_newman':\n",
    "        communities_generator = community.girvan_newman(G)\n",
    "        for i in range(iterations):\n",
    "            top_level_communities = next(communities_generator)\n",
    "    elif method == 'greedy_modularity':\n",
    "        top_level_communities = community.greedy_modularity_communities(G)\n",
    "    elif method == 'louvain':\n",
    "        top_level_communities = community.louvain_communities(G)\n",
    "    \n",
    "    # print(top_level_communities)\n",
    "\n",
    "    communities = [0] * G.number_of_nodes()\n",
    "    index = 1\n",
    "    for community in top_level_communities:\n",
    "        for node in community:\n",
    "            communities[lblDict[node]] = index\n",
    "        index += 1\n",
    "\n",
    "    return communities"
   ]
  },
  {
   "cell_type": "code",
   "execution_count": 195,
   "metadata": {},
   "outputs": [],
   "source": [
    "dolphins = 'data\\\\real\\\\dolphins' # 1 iteration\n",
    "football = 'data\\\\real\\\\football' # 10 iterations\n",
    "karate = 'data\\\\real\\\\karate' # 1 iteration\n",
    "krebs = 'data\\\\real\\\\krebs' # 2 iterations\n",
    "\n",
    "path = krebs\n",
    "communities = greedyCommunitiesDetection(readGraph(path), method='girvan_newman', iterations=2)\n",
    "writeCommunities(path, communities)"
   ]
  },
  {
   "cell_type": "code",
   "execution_count": null,
   "metadata": {},
   "outputs": [],
   "source": []
  }
 ],
 "metadata": {
  "kernelspec": {
   "display_name": "Python 3",
   "language": "python",
   "name": "python3"
  },
  "language_info": {
   "codemirror_mode": {
    "name": "ipython",
    "version": 3
   },
   "file_extension": ".py",
   "mimetype": "text/x-python",
   "name": "python",
   "nbconvert_exporter": "python",
   "pygments_lexer": "ipython3",
   "version": "3.10.10"
  },
  "orig_nbformat": 4
 },
 "nbformat": 4,
 "nbformat_minor": 2
}
